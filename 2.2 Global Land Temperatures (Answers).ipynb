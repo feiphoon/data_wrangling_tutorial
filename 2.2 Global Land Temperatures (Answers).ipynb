{
 "cells": [
  {
   "cell_type": "markdown",
   "metadata": {
    "collapsed": true
   },
   "source": [
    "# Global Land Temperatures\n",
    "https://www.kaggle.com/berkeleyearth/climate-change-earth-surface-temperature-data"
   ]
  },
  {
   "cell_type": "markdown",
   "metadata": {},
   "source": [
    "### import _pandas_"
   ]
  },
  {
   "cell_type": "code",
   "execution_count": 1,
   "metadata": {
    "collapsed": true
   },
   "outputs": [],
   "source": [
    "import pandas as pd"
   ]
  },
  {
   "cell_type": "markdown",
   "metadata": {},
   "source": [
    "### Import the dataframe, read it into a Panda's DataFrame and assign it to df"
   ]
  },
  {
   "cell_type": "code",
   "execution_count": 2,
   "metadata": {
    "collapsed": true
   },
   "outputs": [],
   "source": [
    "df = pd.read_csv('GlobalLandTemperaturesByMajorCity.csv')"
   ]
  },
  {
   "cell_type": "markdown",
   "metadata": {},
   "source": [
    "### Have a look at the first 5 rows using the head method"
   ]
  },
  {
   "cell_type": "code",
   "execution_count": 3,
   "metadata": {},
   "outputs": [
    {
     "data": {
      "text/html": [
       "<div>\n",
       "<style>\n",
       "    .dataframe thead tr:only-child th {\n",
       "        text-align: right;\n",
       "    }\n",
       "\n",
       "    .dataframe thead th {\n",
       "        text-align: left;\n",
       "    }\n",
       "\n",
       "    .dataframe tbody tr th {\n",
       "        vertical-align: top;\n",
       "    }\n",
       "</style>\n",
       "<table border=\"1\" class=\"dataframe\">\n",
       "  <thead>\n",
       "    <tr style=\"text-align: right;\">\n",
       "      <th></th>\n",
       "      <th>dt</th>\n",
       "      <th>AverageTemperature</th>\n",
       "      <th>AverageTemperatureUncertainty</th>\n",
       "      <th>City</th>\n",
       "      <th>Country</th>\n",
       "      <th>Latitude</th>\n",
       "      <th>Longitude</th>\n",
       "    </tr>\n",
       "  </thead>\n",
       "  <tbody>\n",
       "    <tr>\n",
       "      <th>0</th>\n",
       "      <td>1849-01-01</td>\n",
       "      <td>26.704</td>\n",
       "      <td>1.435</td>\n",
       "      <td>Abidjan</td>\n",
       "      <td>Côte D'Ivoire</td>\n",
       "      <td>5.63N</td>\n",
       "      <td>3.23W</td>\n",
       "    </tr>\n",
       "    <tr>\n",
       "      <th>1</th>\n",
       "      <td>1849-02-01</td>\n",
       "      <td>27.434</td>\n",
       "      <td>1.362</td>\n",
       "      <td>Abidjan</td>\n",
       "      <td>Côte D'Ivoire</td>\n",
       "      <td>5.63N</td>\n",
       "      <td>3.23W</td>\n",
       "    </tr>\n",
       "    <tr>\n",
       "      <th>2</th>\n",
       "      <td>1849-03-01</td>\n",
       "      <td>28.101</td>\n",
       "      <td>1.612</td>\n",
       "      <td>Abidjan</td>\n",
       "      <td>Côte D'Ivoire</td>\n",
       "      <td>5.63N</td>\n",
       "      <td>3.23W</td>\n",
       "    </tr>\n",
       "    <tr>\n",
       "      <th>3</th>\n",
       "      <td>1849-04-01</td>\n",
       "      <td>26.140</td>\n",
       "      <td>1.387</td>\n",
       "      <td>Abidjan</td>\n",
       "      <td>Côte D'Ivoire</td>\n",
       "      <td>5.63N</td>\n",
       "      <td>3.23W</td>\n",
       "    </tr>\n",
       "    <tr>\n",
       "      <th>4</th>\n",
       "      <td>1849-05-01</td>\n",
       "      <td>25.427</td>\n",
       "      <td>1.200</td>\n",
       "      <td>Abidjan</td>\n",
       "      <td>Côte D'Ivoire</td>\n",
       "      <td>5.63N</td>\n",
       "      <td>3.23W</td>\n",
       "    </tr>\n",
       "  </tbody>\n",
       "</table>\n",
       "</div>"
      ],
      "text/plain": [
       "           dt  AverageTemperature  AverageTemperatureUncertainty     City  \\\n",
       "0  1849-01-01              26.704                          1.435  Abidjan   \n",
       "1  1849-02-01              27.434                          1.362  Abidjan   \n",
       "2  1849-03-01              28.101                          1.612  Abidjan   \n",
       "3  1849-04-01              26.140                          1.387  Abidjan   \n",
       "4  1849-05-01              25.427                          1.200  Abidjan   \n",
       "\n",
       "         Country Latitude Longitude  \n",
       "0  Côte D'Ivoire    5.63N     3.23W  \n",
       "1  Côte D'Ivoire    5.63N     3.23W  \n",
       "2  Côte D'Ivoire    5.63N     3.23W  \n",
       "3  Côte D'Ivoire    5.63N     3.23W  \n",
       "4  Côte D'Ivoire    5.63N     3.23W  "
      ]
     },
     "execution_count": 3,
     "metadata": {},
     "output_type": "execute_result"
    }
   ],
   "source": [
    "df.head()"
   ]
  },
  {
   "cell_type": "markdown",
   "metadata": {},
   "source": [
    "### Have a look at the size of the dataset"
   ]
  },
  {
   "cell_type": "code",
   "execution_count": 4,
   "metadata": {},
   "outputs": [
    {
     "data": {
      "text/plain": [
       "(239177, 7)"
      ]
     },
     "execution_count": 4,
     "metadata": {},
     "output_type": "execute_result"
    }
   ],
   "source": [
    "df.shape"
   ]
  },
  {
   "cell_type": "markdown",
   "metadata": {
    "collapsed": true
   },
   "source": [
    "### What is the number of observations in the dataset?"
   ]
  },
  {
   "cell_type": "code",
   "execution_count": 5,
   "metadata": {},
   "outputs": [
    {
     "data": {
      "text/plain": [
       "239177"
      ]
     },
     "execution_count": 5,
     "metadata": {},
     "output_type": "execute_result"
    }
   ],
   "source": [
    "df.shape[0]"
   ]
  },
  {
   "cell_type": "markdown",
   "metadata": {
    "collapsed": true
   },
   "source": [
    "### What is the number of columns in the dataset?"
   ]
  },
  {
   "cell_type": "code",
   "execution_count": 6,
   "metadata": {},
   "outputs": [
    {
     "data": {
      "text/plain": [
       "7"
      ]
     },
     "execution_count": 6,
     "metadata": {},
     "output_type": "execute_result"
    }
   ],
   "source": [
    "df.shape[1]"
   ]
  },
  {
   "cell_type": "markdown",
   "metadata": {},
   "source": [
    "### Print the names of the columns and info about them (number of non null and type)"
   ]
  },
  {
   "cell_type": "code",
   "execution_count": 7,
   "metadata": {},
   "outputs": [
    {
     "name": "stdout",
     "output_type": "stream",
     "text": [
      "<class 'pandas.core.frame.DataFrame'>\n",
      "RangeIndex: 239177 entries, 0 to 239176\n",
      "Data columns (total 7 columns):\n",
      "dt                               239177 non-null object\n",
      "AverageTemperature               228175 non-null float64\n",
      "AverageTemperatureUncertainty    228175 non-null float64\n",
      "City                             239177 non-null object\n",
      "Country                          239177 non-null object\n",
      "Latitude                         239177 non-null object\n",
      "Longitude                        239177 non-null object\n",
      "dtypes: float64(2), object(5)\n",
      "memory usage: 12.8+ MB\n"
     ]
    }
   ],
   "source": [
    "df.info()"
   ]
  },
  {
   "cell_type": "markdown",
   "metadata": {},
   "source": [
    "### Print the 5th observation."
   ]
  },
  {
   "cell_type": "code",
   "execution_count": 8,
   "metadata": {},
   "outputs": [
    {
     "data": {
      "text/plain": [
       "dt                                  1849-05-01\n",
       "AverageTemperature                      25.427\n",
       "AverageTemperatureUncertainty              1.2\n",
       "City                                   Abidjan\n",
       "Country                          Côte D'Ivoire\n",
       "Latitude                                 5.63N\n",
       "Longitude                                3.23W\n",
       "Name: 4, dtype: object"
      ]
     },
     "execution_count": 8,
     "metadata": {},
     "output_type": "execute_result"
    }
   ],
   "source": [
    "df.loc[4]"
   ]
  },
  {
   "cell_type": "markdown",
   "metadata": {},
   "source": [
    "### What is the city of the 1345th observation?"
   ]
  },
  {
   "cell_type": "code",
   "execution_count": 9,
   "metadata": {},
   "outputs": [
    {
     "data": {
      "text/plain": [
       "'Abidjan'"
      ]
     },
     "execution_count": 9,
     "metadata": {},
     "output_type": "execute_result"
    }
   ],
   "source": [
    "df.iloc[1344, 3]"
   ]
  },
  {
   "cell_type": "markdown",
   "metadata": {},
   "source": [
    "### Rename 'date' the 'dt' column."
   ]
  },
  {
   "cell_type": "code",
   "execution_count": 10,
   "metadata": {
    "collapsed": true
   },
   "outputs": [],
   "source": [
    "df.columns.values[0] = 'date'    "
   ]
  },
  {
   "cell_type": "code",
   "execution_count": 11,
   "metadata": {},
   "outputs": [
    {
     "data": {
      "text/html": [
       "<div>\n",
       "<style>\n",
       "    .dataframe thead tr:only-child th {\n",
       "        text-align: right;\n",
       "    }\n",
       "\n",
       "    .dataframe thead th {\n",
       "        text-align: left;\n",
       "    }\n",
       "\n",
       "    .dataframe tbody tr th {\n",
       "        vertical-align: top;\n",
       "    }\n",
       "</style>\n",
       "<table border=\"1\" class=\"dataframe\">\n",
       "  <thead>\n",
       "    <tr style=\"text-align: right;\">\n",
       "      <th></th>\n",
       "      <th>date</th>\n",
       "      <th>AverageTemperature</th>\n",
       "      <th>AverageTemperatureUncertainty</th>\n",
       "      <th>City</th>\n",
       "      <th>Country</th>\n",
       "      <th>Latitude</th>\n",
       "      <th>Longitude</th>\n",
       "    </tr>\n",
       "  </thead>\n",
       "  <tbody>\n",
       "    <tr>\n",
       "      <th>0</th>\n",
       "      <td>1849-01-01</td>\n",
       "      <td>26.704</td>\n",
       "      <td>1.435</td>\n",
       "      <td>Abidjan</td>\n",
       "      <td>Côte D'Ivoire</td>\n",
       "      <td>5.63N</td>\n",
       "      <td>3.23W</td>\n",
       "    </tr>\n",
       "    <tr>\n",
       "      <th>1</th>\n",
       "      <td>1849-02-01</td>\n",
       "      <td>27.434</td>\n",
       "      <td>1.362</td>\n",
       "      <td>Abidjan</td>\n",
       "      <td>Côte D'Ivoire</td>\n",
       "      <td>5.63N</td>\n",
       "      <td>3.23W</td>\n",
       "    </tr>\n",
       "  </tbody>\n",
       "</table>\n",
       "</div>"
      ],
      "text/plain": [
       "         date  AverageTemperature  AverageTemperatureUncertainty     City  \\\n",
       "0  1849-01-01              26.704                          1.435  Abidjan   \n",
       "1  1849-02-01              27.434                          1.362  Abidjan   \n",
       "\n",
       "         Country Latitude Longitude  \n",
       "0  Côte D'Ivoire    5.63N     3.23W  \n",
       "1  Côte D'Ivoire    5.63N     3.23W  "
      ]
     },
     "execution_count": 11,
     "metadata": {},
     "output_type": "execute_result"
    }
   ],
   "source": [
    "df.head(2)"
   ]
  },
  {
   "cell_type": "markdown",
   "metadata": {},
   "source": [
    "### Count the total of unique cities."
   ]
  },
  {
   "cell_type": "code",
   "execution_count": 12,
   "metadata": {},
   "outputs": [
    {
     "data": {
      "text/plain": [
       "100"
      ]
     },
     "execution_count": 12,
     "metadata": {},
     "output_type": "execute_result"
    }
   ],
   "source": [
    "len(df['City'].unique())"
   ]
  },
  {
   "cell_type": "markdown",
   "metadata": {},
   "source": [
    "### Print the count of unique values for each city"
   ]
  },
  {
   "cell_type": "code",
   "execution_count": 13,
   "metadata": {},
   "outputs": [
    {
     "data": {
      "text/plain": [
       "Kiev                3239\n",
       "Paris               3239\n",
       "New York            3239\n",
       "Chicago             3239\n",
       "Toronto             3239\n",
       "Montreal            3239\n",
       "London              3239\n",
       "Istanbul            3239\n",
       "Berlin              3239\n",
       "Moscow              3239\n",
       "Madrid              3239\n",
       "Saint Petersburg    3239\n",
       "Rome                3239\n",
       "Izmir               3129\n",
       "Ankara              3105\n",
       "Casablanca          3009\n",
       "Aleppo              2669\n",
       "Alexandria          2669\n",
       "New Delhi           2613\n",
       "Delhi               2613\n",
       "Hyderabad           2613\n",
       "Jaipur              2613\n",
       "Calcutta            2613\n",
       "Pune                2613\n",
       "Dhaka               2613\n",
       "Bombay              2613\n",
       "Ahmadabad           2613\n",
       "Surat               2613\n",
       "Kanpur              2613\n",
       "Bangalore           2613\n",
       "                    ... \n",
       "Shanghai            2073\n",
       "Sydney              2073\n",
       "Taipei              2073\n",
       "Nanjing             2073\n",
       "Wuhan               2073\n",
       "Melbourne           2073\n",
       "Nagoya              2070\n",
       "Riyadh              2049\n",
       "Jiddah              2049\n",
       "Tokyo               2025\n",
       "Fortaleza           2025\n",
       "Manila              2025\n",
       "Abidjan             1977\n",
       "Lagos               1977\n",
       "Los Angeles         1977\n",
       "Dakar               1977\n",
       "Nairobi             1965\n",
       "Harare              1965\n",
       "Mogadishu           1965\n",
       "Addis Abeba         1965\n",
       "Dar Es Salaam       1965\n",
       "Santiago            1901\n",
       "Kano                1893\n",
       "Ibadan              1893\n",
       "Luanda              1893\n",
       "Kinshasa            1893\n",
       "Durban              1881\n",
       "Cape Town           1881\n",
       "Umm Durman          1857\n",
       "Lima                1591\n",
       "Name: City, Length: 100, dtype: int64"
      ]
     },
     "execution_count": 13,
     "metadata": {},
     "output_type": "execute_result"
    }
   ],
   "source": [
    "df['City'].value_counts()"
   ]
  },
  {
   "cell_type": "markdown",
   "metadata": {},
   "source": [
    "### Find the indexes of  the obervation without an Average Temperature. "
   ]
  },
  {
   "cell_type": "code",
   "execution_count": 14,
   "metadata": {},
   "outputs": [
    {
     "data": {
      "text/plain": [
       "Int64Index([    36,     37,     38,     39,     40,     41,     42,     43,\n",
       "                44,     45,\n",
       "            ...\n",
       "            237084, 237085, 237086, 237087, 237088, 237089, 237090, 237091,\n",
       "            237422, 239176],\n",
       "           dtype='int64', length=11002)"
      ]
     },
     "execution_count": 14,
     "metadata": {},
     "output_type": "execute_result"
    }
   ],
   "source": [
    "df[df.AverageTemperature.isnull()].index"
   ]
  },
  {
   "cell_type": "markdown",
   "metadata": {},
   "source": [
    "### Show how the average temperature is distributed."
   ]
  },
  {
   "cell_type": "code",
   "execution_count": 15,
   "metadata": {},
   "outputs": [
    {
     "data": {
      "text/plain": [
       "count    228175.000000\n",
       "mean         18.125969\n",
       "std          10.024800\n",
       "min         -26.772000\n",
       "25%          12.710000\n",
       "50%          20.428000\n",
       "75%          25.918000\n",
       "max          38.283000\n",
       "Name: AverageTemperature, dtype: float64"
      ]
     },
     "execution_count": 15,
     "metadata": {},
     "output_type": "execute_result"
    }
   ],
   "source": [
    "df.AverageTemperature.describe()"
   ]
  },
  {
   "cell_type": "markdown",
   "metadata": {
    "collapsed": true
   },
   "source": [
    "### Draw a boxplot of the average temperature."
   ]
  },
  {
   "cell_type": "code",
   "execution_count": 16,
   "metadata": {
    "collapsed": true
   },
   "outputs": [],
   "source": [
    "%matplotlib inline\n",
    "# magic fonction: allows the graph to be displayed in the notebook"
   ]
  },
  {
   "cell_type": "code",
   "execution_count": 17,
   "metadata": {},
   "outputs": [
    {
     "data": {
      "text/plain": [
       "<matplotlib.axes._subplots.AxesSubplot at 0x7f08cf5c52e8>"
      ]
     },
     "execution_count": 17,
     "metadata": {},
     "output_type": "execute_result"
    },
    {
     "data": {
      "image/png": "[encoded data removed]",
      "text/plain": [
       "<matplotlib.figure.Figure at 0x7f08f85f80b8>"
      ]
     },
     "metadata": {},
     "output_type": "display_data"
    }
   ],
   "source": [
    "df['AverageTemperature'].plot(kind='box')"
   ]
  }
 ],
 "metadata": {
  "kernelspec": {
   "display_name": "Python 3",
   "language": "python",
   "name": "python3"
  },
  "language_info": {
   "codemirror_mode": {
    "name": "ipython",
    "version": 3
   },
   "file_extension": ".py",
   "mimetype": "text/x-python",
   "name": "python",
   "nbconvert_exporter": "python",
   "pygments_lexer": "ipython3",
   "version": "3.6.4"
  }
 },
 "nbformat": 4,
 "nbformat_minor": 2
}
